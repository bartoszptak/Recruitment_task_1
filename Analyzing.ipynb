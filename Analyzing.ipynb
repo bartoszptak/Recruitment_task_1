{
 "cells": [
  {
   "cell_type": "markdown",
   "metadata": {},
   "source": [
    "# Prepare data"
   ]
  },
  {
   "cell_type": "code",
   "execution_count": 1,
   "metadata": {},
   "outputs": [],
   "source": [
    "import numpy as np\n",
    "import pandas as pd\n",
    "import matplotlib.pyplot as plt"
   ]
  },
  {
   "cell_type": "code",
   "execution_count": 2,
   "metadata": {},
   "outputs": [],
   "source": [
    "graduates = pd.read_csv('data/graduates.csv')\n",
    "score_board = pd.read_csv('data/score_board.csv')"
   ]
  },
  {
   "cell_type": "code",
   "execution_count": 3,
   "metadata": {},
   "outputs": [
    {
     "name": "stdout",
     "output_type": "stream",
     "text": [
      "id           False\n",
      "graduated    False\n",
      "dtype: bool\n",
      "id                 False\n",
      "year               False\n",
      "gpa                False\n",
      "maths_exam         False\n",
      "art_exam           False\n",
      "language_exam      False\n",
      "social_activity    False\n",
      "essay_score        False\n",
      "interview_score    False\n",
      "score              False\n",
      "accepted           False\n",
      "dtype: bool\n"
     ]
    }
   ],
   "source": [
    "print(graduates.isnull().any())\n",
    "print(score_board.isnull().any())"
   ]
  },
  {
   "cell_type": "code",
   "execution_count": 4,
   "metadata": {},
   "outputs": [
    {
     "data": {
      "text/html": [
       "<div>\n",
       "<style scoped>\n",
       "    .dataframe tbody tr th:only-of-type {\n",
       "        vertical-align: middle;\n",
       "    }\n",
       "\n",
       "    .dataframe tbody tr th {\n",
       "        vertical-align: top;\n",
       "    }\n",
       "\n",
       "    .dataframe thead th {\n",
       "        text-align: right;\n",
       "    }\n",
       "</style>\n",
       "<table border=\"1\" class=\"dataframe\">\n",
       "  <thead>\n",
       "    <tr style=\"text-align: right;\">\n",
       "      <th></th>\n",
       "      <th>id</th>\n",
       "      <th>year</th>\n",
       "      <th>gpa</th>\n",
       "      <th>maths_exam</th>\n",
       "      <th>art_exam</th>\n",
       "      <th>language_exam</th>\n",
       "      <th>social_activity</th>\n",
       "      <th>essay_score</th>\n",
       "      <th>interview_score</th>\n",
       "      <th>score</th>\n",
       "      <th>accepted</th>\n",
       "      <th>graduated</th>\n",
       "    </tr>\n",
       "  </thead>\n",
       "  <tbody>\n",
       "    <tr>\n",
       "      <th>0</th>\n",
       "      <td>CS-1980-00001</td>\n",
       "      <td>1980</td>\n",
       "      <td>1.674275</td>\n",
       "      <td>0.082557</td>\n",
       "      <td>0.084508</td>\n",
       "      <td>0.008007</td>\n",
       "      <td>4</td>\n",
       "      <td>0.091328</td>\n",
       "      <td>0.012596</td>\n",
       "      <td>276</td>\n",
       "      <td>False</td>\n",
       "      <td>False</td>\n",
       "    </tr>\n",
       "    <tr>\n",
       "      <th>1</th>\n",
       "      <td>CS-1980-00002</td>\n",
       "      <td>1980</td>\n",
       "      <td>3.743429</td>\n",
       "      <td>0.898700</td>\n",
       "      <td>0.978949</td>\n",
       "      <td>0.937879</td>\n",
       "      <td>4</td>\n",
       "      <td>0.991515</td>\n",
       "      <td>0.999604</td>\n",
       "      <td>857</td>\n",
       "      <td>True</td>\n",
       "      <td>False</td>\n",
       "    </tr>\n",
       "    <tr>\n",
       "      <th>2</th>\n",
       "      <td>CS-1980-00003</td>\n",
       "      <td>1980</td>\n",
       "      <td>1.500251</td>\n",
       "      <td>0.075756</td>\n",
       "      <td>0.002541</td>\n",
       "      <td>0.216737</td>\n",
       "      <td>3</td>\n",
       "      <td>0.008463</td>\n",
       "      <td>0.001737</td>\n",
       "      <td>276</td>\n",
       "      <td>False</td>\n",
       "      <td>False</td>\n",
       "    </tr>\n",
       "    <tr>\n",
       "      <th>3</th>\n",
       "      <td>CS-1980-00004</td>\n",
       "      <td>1980</td>\n",
       "      <td>3.047625</td>\n",
       "      <td>0.993001</td>\n",
       "      <td>0.950673</td>\n",
       "      <td>0.763701</td>\n",
       "      <td>5</td>\n",
       "      <td>0.996858</td>\n",
       "      <td>0.949954</td>\n",
       "      <td>841</td>\n",
       "      <td>True</td>\n",
       "      <td>True</td>\n",
       "    </tr>\n",
       "    <tr>\n",
       "      <th>4</th>\n",
       "      <td>CS-1980-00005</td>\n",
       "      <td>1980</td>\n",
       "      <td>2.884417</td>\n",
       "      <td>0.396614</td>\n",
       "      <td>0.478490</td>\n",
       "      <td>0.180828</td>\n",
       "      <td>3</td>\n",
       "      <td>0.638742</td>\n",
       "      <td>0.182141</td>\n",
       "      <td>554</td>\n",
       "      <td>False</td>\n",
       "      <td>False</td>\n",
       "    </tr>\n",
       "    <tr>\n",
       "      <th>5</th>\n",
       "      <td>CS-1980-00006</td>\n",
       "      <td>1980</td>\n",
       "      <td>3.115015</td>\n",
       "      <td>0.505209</td>\n",
       "      <td>0.154452</td>\n",
       "      <td>0.989376</td>\n",
       "      <td>5</td>\n",
       "      <td>0.996864</td>\n",
       "      <td>0.903852</td>\n",
       "      <td>675</td>\n",
       "      <td>False</td>\n",
       "      <td>False</td>\n",
       "    </tr>\n",
       "  </tbody>\n",
       "</table>\n",
       "</div>"
      ],
      "text/plain": [
       "              id  year       gpa  maths_exam  art_exam  language_exam  \\\n",
       "0  CS-1980-00001  1980  1.674275    0.082557  0.084508       0.008007   \n",
       "1  CS-1980-00002  1980  3.743429    0.898700  0.978949       0.937879   \n",
       "2  CS-1980-00003  1980  1.500251    0.075756  0.002541       0.216737   \n",
       "3  CS-1980-00004  1980  3.047625    0.993001  0.950673       0.763701   \n",
       "4  CS-1980-00005  1980  2.884417    0.396614  0.478490       0.180828   \n",
       "5  CS-1980-00006  1980  3.115015    0.505209  0.154452       0.989376   \n",
       "\n",
       "   social_activity  essay_score  interview_score  score  accepted  graduated  \n",
       "0                4     0.091328         0.012596    276     False      False  \n",
       "1                4     0.991515         0.999604    857      True      False  \n",
       "2                3     0.008463         0.001737    276     False      False  \n",
       "3                5     0.996858         0.949954    841      True       True  \n",
       "4                3     0.638742         0.182141    554     False      False  \n",
       "5                5     0.996864         0.903852    675     False      False  "
      ]
     },
     "execution_count": 4,
     "metadata": {},
     "output_type": "execute_result"
    }
   ],
   "source": [
    "df = pd.merge(score_board, graduates, on='id', how='left')\n",
    "df[['graduated']] = df[['graduated']].fillna(value=False)\n",
    "df.head(6)"
   ]
  },
  {
   "cell_type": "code",
   "execution_count": 5,
   "metadata": {},
   "outputs": [
    {
     "data": {
      "text/html": [
       "<div>\n",
       "<style scoped>\n",
       "    .dataframe tbody tr th:only-of-type {\n",
       "        vertical-align: middle;\n",
       "    }\n",
       "\n",
       "    .dataframe tbody tr th {\n",
       "        vertical-align: top;\n",
       "    }\n",
       "\n",
       "    .dataframe thead th {\n",
       "        text-align: right;\n",
       "    }\n",
       "</style>\n",
       "<table border=\"1\" class=\"dataframe\">\n",
       "  <thead>\n",
       "    <tr style=\"text-align: right;\">\n",
       "      <th></th>\n",
       "      <th>id</th>\n",
       "      <th>year</th>\n",
       "      <th>gpa</th>\n",
       "      <th>maths_exam</th>\n",
       "      <th>art_exam</th>\n",
       "      <th>language_exam</th>\n",
       "      <th>social_activity</th>\n",
       "      <th>essay_score</th>\n",
       "      <th>interview_score</th>\n",
       "      <th>score</th>\n",
       "      <th>accepted</th>\n",
       "      <th>graduated</th>\n",
       "    </tr>\n",
       "  </thead>\n",
       "  <tbody>\n",
       "    <tr>\n",
       "      <th>0</th>\n",
       "      <td>CS-1980-00001</td>\n",
       "      <td>1980</td>\n",
       "      <td>1.674275</td>\n",
       "      <td>0.082557</td>\n",
       "      <td>0.084508</td>\n",
       "      <td>0.008007</td>\n",
       "      <td>4</td>\n",
       "      <td>0.091328</td>\n",
       "      <td>0.012596</td>\n",
       "      <td>276</td>\n",
       "      <td>False</td>\n",
       "      <td>0.0</td>\n",
       "    </tr>\n",
       "    <tr>\n",
       "      <th>1</th>\n",
       "      <td>CS-1980-00002</td>\n",
       "      <td>1980</td>\n",
       "      <td>3.743429</td>\n",
       "      <td>0.898700</td>\n",
       "      <td>0.978949</td>\n",
       "      <td>0.937879</td>\n",
       "      <td>4</td>\n",
       "      <td>0.991515</td>\n",
       "      <td>0.999604</td>\n",
       "      <td>857</td>\n",
       "      <td>True</td>\n",
       "      <td>0.0</td>\n",
       "    </tr>\n",
       "    <tr>\n",
       "      <th>2</th>\n",
       "      <td>CS-1980-00003</td>\n",
       "      <td>1980</td>\n",
       "      <td>1.500251</td>\n",
       "      <td>0.075756</td>\n",
       "      <td>0.002541</td>\n",
       "      <td>0.216737</td>\n",
       "      <td>3</td>\n",
       "      <td>0.008463</td>\n",
       "      <td>0.001737</td>\n",
       "      <td>276</td>\n",
       "      <td>False</td>\n",
       "      <td>0.0</td>\n",
       "    </tr>\n",
       "    <tr>\n",
       "      <th>3</th>\n",
       "      <td>CS-1980-00004</td>\n",
       "      <td>1980</td>\n",
       "      <td>3.047625</td>\n",
       "      <td>0.993001</td>\n",
       "      <td>0.950673</td>\n",
       "      <td>0.763701</td>\n",
       "      <td>5</td>\n",
       "      <td>0.996858</td>\n",
       "      <td>0.949954</td>\n",
       "      <td>841</td>\n",
       "      <td>True</td>\n",
       "      <td>1.0</td>\n",
       "    </tr>\n",
       "    <tr>\n",
       "      <th>4</th>\n",
       "      <td>CS-1980-00005</td>\n",
       "      <td>1980</td>\n",
       "      <td>2.884417</td>\n",
       "      <td>0.396614</td>\n",
       "      <td>0.478490</td>\n",
       "      <td>0.180828</td>\n",
       "      <td>3</td>\n",
       "      <td>0.638742</td>\n",
       "      <td>0.182141</td>\n",
       "      <td>554</td>\n",
       "      <td>False</td>\n",
       "      <td>0.0</td>\n",
       "    </tr>\n",
       "    <tr>\n",
       "      <th>5</th>\n",
       "      <td>CS-1980-00006</td>\n",
       "      <td>1980</td>\n",
       "      <td>3.115015</td>\n",
       "      <td>0.505209</td>\n",
       "      <td>0.154452</td>\n",
       "      <td>0.989376</td>\n",
       "      <td>5</td>\n",
       "      <td>0.996864</td>\n",
       "      <td>0.903852</td>\n",
       "      <td>675</td>\n",
       "      <td>False</td>\n",
       "      <td>0.0</td>\n",
       "    </tr>\n",
       "  </tbody>\n",
       "</table>\n",
       "</div>"
      ],
      "text/plain": [
       "              id  year       gpa  maths_exam  art_exam  language_exam  \\\n",
       "0  CS-1980-00001  1980  1.674275    0.082557  0.084508       0.008007   \n",
       "1  CS-1980-00002  1980  3.743429    0.898700  0.978949       0.937879   \n",
       "2  CS-1980-00003  1980  1.500251    0.075756  0.002541       0.216737   \n",
       "3  CS-1980-00004  1980  3.047625    0.993001  0.950673       0.763701   \n",
       "4  CS-1980-00005  1980  2.884417    0.396614  0.478490       0.180828   \n",
       "5  CS-1980-00006  1980  3.115015    0.505209  0.154452       0.989376   \n",
       "\n",
       "   social_activity  essay_score  interview_score  score  accepted  graduated  \n",
       "0                4     0.091328         0.012596    276     False        0.0  \n",
       "1                4     0.991515         0.999604    857      True        0.0  \n",
       "2                3     0.008463         0.001737    276     False        0.0  \n",
       "3                5     0.996858         0.949954    841      True        1.0  \n",
       "4                3     0.638742         0.182141    554     False        0.0  \n",
       "5                5     0.996864         0.903852    675     False        0.0  "
      ]
     },
     "execution_count": 5,
     "metadata": {},
     "output_type": "execute_result"
    }
   ],
   "source": [
    "df = df.dropna(how='any')\n",
    "\n",
    "df['graduated'] = df['graduated'].replace(False, 0)\n",
    "df.head(6)"
   ]
  },
  {
   "cell_type": "code",
   "execution_count": 6,
   "metadata": {},
   "outputs": [
    {
     "data": {
      "text/html": [
       "<div>\n",
       "<style scoped>\n",
       "    .dataframe tbody tr th:only-of-type {\n",
       "        vertical-align: middle;\n",
       "    }\n",
       "\n",
       "    .dataframe tbody tr th {\n",
       "        vertical-align: top;\n",
       "    }\n",
       "\n",
       "    .dataframe thead th {\n",
       "        text-align: right;\n",
       "    }\n",
       "</style>\n",
       "<table border=\"1\" class=\"dataframe\">\n",
       "  <thead>\n",
       "    <tr style=\"text-align: right;\">\n",
       "      <th></th>\n",
       "      <th>year</th>\n",
       "      <th>gpa</th>\n",
       "      <th>maths_exam</th>\n",
       "      <th>art_exam</th>\n",
       "      <th>language_exam</th>\n",
       "      <th>social_activity</th>\n",
       "      <th>essay_score</th>\n",
       "      <th>interview_score</th>\n",
       "      <th>score</th>\n",
       "      <th>graduated</th>\n",
       "    </tr>\n",
       "  </thead>\n",
       "  <tbody>\n",
       "    <tr>\n",
       "      <th>count</th>\n",
       "      <td>46478.000000</td>\n",
       "      <td>46478.000000</td>\n",
       "      <td>46478.000000</td>\n",
       "      <td>46478.000000</td>\n",
       "      <td>46478.000000</td>\n",
       "      <td>46478.000000</td>\n",
       "      <td>46478.000000</td>\n",
       "      <td>46478.000000</td>\n",
       "      <td>46478.000000</td>\n",
       "      <td>46478.000000</td>\n",
       "    </tr>\n",
       "    <tr>\n",
       "      <th>mean</th>\n",
       "      <td>1998.823680</td>\n",
       "      <td>2.749776</td>\n",
       "      <td>0.567661</td>\n",
       "      <td>0.566245</td>\n",
       "      <td>0.564037</td>\n",
       "      <td>2.997268</td>\n",
       "      <td>0.587991</td>\n",
       "      <td>0.588620</td>\n",
       "      <td>627.208593</td>\n",
       "      <td>0.102091</td>\n",
       "    </tr>\n",
       "    <tr>\n",
       "      <th>std</th>\n",
       "      <td>10.551211</td>\n",
       "      <td>0.722317</td>\n",
       "      <td>0.342000</td>\n",
       "      <td>0.340899</td>\n",
       "      <td>0.341505</td>\n",
       "      <td>1.410028</td>\n",
       "      <td>0.387963</td>\n",
       "      <td>0.388413</td>\n",
       "      <td>204.736171</td>\n",
       "      <td>0.302772</td>\n",
       "    </tr>\n",
       "    <tr>\n",
       "      <th>min</th>\n",
       "      <td>1980.000000</td>\n",
       "      <td>1.500020</td>\n",
       "      <td>0.000132</td>\n",
       "      <td>0.000033</td>\n",
       "      <td>0.000056</td>\n",
       "      <td>1.000000</td>\n",
       "      <td>0.000003</td>\n",
       "      <td>0.000010</td>\n",
       "      <td>89.000000</td>\n",
       "      <td>0.000000</td>\n",
       "    </tr>\n",
       "    <tr>\n",
       "      <th>25%</th>\n",
       "      <td>1990.000000</td>\n",
       "      <td>2.122802</td>\n",
       "      <td>0.231938</td>\n",
       "      <td>0.234131</td>\n",
       "      <td>0.232634</td>\n",
       "      <td>2.000000</td>\n",
       "      <td>0.157416</td>\n",
       "      <td>0.156790</td>\n",
       "      <td>468.000000</td>\n",
       "      <td>0.000000</td>\n",
       "    </tr>\n",
       "    <tr>\n",
       "      <th>50%</th>\n",
       "      <td>2000.000000</td>\n",
       "      <td>2.752711</td>\n",
       "      <td>0.630916</td>\n",
       "      <td>0.624387</td>\n",
       "      <td>0.618879</td>\n",
       "      <td>3.000000</td>\n",
       "      <td>0.723635</td>\n",
       "      <td>0.723814</td>\n",
       "      <td>638.000000</td>\n",
       "      <td>0.000000</td>\n",
       "    </tr>\n",
       "    <tr>\n",
       "      <th>75%</th>\n",
       "      <td>2007.000000</td>\n",
       "      <td>3.374218</td>\n",
       "      <td>0.902174</td>\n",
       "      <td>0.900198</td>\n",
       "      <td>0.899342</td>\n",
       "      <td>4.000000</td>\n",
       "      <td>0.970727</td>\n",
       "      <td>0.971542</td>\n",
       "      <td>785.000000</td>\n",
       "      <td>0.000000</td>\n",
       "    </tr>\n",
       "    <tr>\n",
       "      <th>max</th>\n",
       "      <td>2016.000000</td>\n",
       "      <td>3.999989</td>\n",
       "      <td>0.999921</td>\n",
       "      <td>0.999956</td>\n",
       "      <td>0.999977</td>\n",
       "      <td>5.000000</td>\n",
       "      <td>0.999997</td>\n",
       "      <td>0.999996</td>\n",
       "      <td>1115.000000</td>\n",
       "      <td>1.000000</td>\n",
       "    </tr>\n",
       "  </tbody>\n",
       "</table>\n",
       "</div>"
      ],
      "text/plain": [
       "               year           gpa    maths_exam      art_exam  language_exam  \\\n",
       "count  46478.000000  46478.000000  46478.000000  46478.000000   46478.000000   \n",
       "mean    1998.823680      2.749776      0.567661      0.566245       0.564037   \n",
       "std       10.551211      0.722317      0.342000      0.340899       0.341505   \n",
       "min     1980.000000      1.500020      0.000132      0.000033       0.000056   \n",
       "25%     1990.000000      2.122802      0.231938      0.234131       0.232634   \n",
       "50%     2000.000000      2.752711      0.630916      0.624387       0.618879   \n",
       "75%     2007.000000      3.374218      0.902174      0.900198       0.899342   \n",
       "max     2016.000000      3.999989      0.999921      0.999956       0.999977   \n",
       "\n",
       "       social_activity   essay_score  interview_score         score  \\\n",
       "count     46478.000000  46478.000000     46478.000000  46478.000000   \n",
       "mean          2.997268      0.587991         0.588620    627.208593   \n",
       "std           1.410028      0.387963         0.388413    204.736171   \n",
       "min           1.000000      0.000003         0.000010     89.000000   \n",
       "25%           2.000000      0.157416         0.156790    468.000000   \n",
       "50%           3.000000      0.723635         0.723814    638.000000   \n",
       "75%           4.000000      0.970727         0.971542    785.000000   \n",
       "max           5.000000      0.999997         0.999996   1115.000000   \n",
       "\n",
       "          graduated  \n",
       "count  46478.000000  \n",
       "mean       0.102091  \n",
       "std        0.302772  \n",
       "min        0.000000  \n",
       "25%        0.000000  \n",
       "50%        0.000000  \n",
       "75%        0.000000  \n",
       "max        1.000000  "
      ]
     },
     "execution_count": 6,
     "metadata": {},
     "output_type": "execute_result"
    }
   ],
   "source": [
    "df.describe()"
   ]
  },
  {
   "cell_type": "code",
   "execution_count": 7,
   "metadata": {},
   "outputs": [],
   "source": [
    "from sklearn.model_selection import train_test_split\n",
    "\n",
    "train, test = train_test_split(df, test_size=0.1, shuffle=True, random_state=42)"
   ]
  },
  {
   "cell_type": "code",
   "execution_count": 8,
   "metadata": {},
   "outputs": [
    {
     "data": {
      "text/plain": [
       "0.0    37595\n",
       "1.0     4235\n",
       "Name: graduated, dtype: int64"
      ]
     },
     "execution_count": 8,
     "metadata": {},
     "output_type": "execute_result"
    }
   ],
   "source": [
    "train['graduated'].value_counts()"
   ]
  },
  {
   "cell_type": "code",
   "execution_count": 9,
   "metadata": {},
   "outputs": [],
   "source": [
    "ones = train[train.graduated == 1]\n",
    "zeros = train[train.graduated == 0]\n",
    "zeros = zeros.sample(int(ones.shape[0]*1.1))\n",
    "dfa = pd.concat([ones, zeros])\n",
    "dfa = dfa.sample(frac=1).reset_index(drop=True)"
   ]
  },
  {
   "cell_type": "code",
   "execution_count": 10,
   "metadata": {},
   "outputs": [],
   "source": [
    "def prepare(df):\n",
    "    df = dfa.copy()\n",
    "    df['scoreXgpa'] = df['gpa']*df['score']\n",
    "    df['examsXgpa'] = (df['maths_exam']+df['art_exam']+df['language_exam'])*df['gpa']\n",
    "    df['scoresXgpa'] = (df['essay_score']+df['interview_score'])*df['gpa']\n",
    "    df = df.drop(columns=['id', 'year', 'accepted', 'social_activity'])\n",
    "    df = df.drop(columns=['maths_exam', 'art_exam', 'language_exam', 'essay_score', 'interview_score'])\n",
    "    return df\n",
    "\n",
    "df = prepare(dfa)"
   ]
  },
  {
   "cell_type": "code",
   "execution_count": 11,
   "metadata": {},
   "outputs": [
    {
     "data": {
      "text/html": [
       "<div>\n",
       "<style scoped>\n",
       "    .dataframe tbody tr th:only-of-type {\n",
       "        vertical-align: middle;\n",
       "    }\n",
       "\n",
       "    .dataframe tbody tr th {\n",
       "        vertical-align: top;\n",
       "    }\n",
       "\n",
       "    .dataframe thead th {\n",
       "        text-align: right;\n",
       "    }\n",
       "</style>\n",
       "<table border=\"1\" class=\"dataframe\">\n",
       "  <thead>\n",
       "    <tr style=\"text-align: right;\">\n",
       "      <th></th>\n",
       "      <th>gpa</th>\n",
       "      <th>score</th>\n",
       "      <th>graduated</th>\n",
       "      <th>scoreXgpa</th>\n",
       "      <th>examsXgpa</th>\n",
       "      <th>scoresXgpa</th>\n",
       "    </tr>\n",
       "  </thead>\n",
       "  <tbody>\n",
       "    <tr>\n",
       "      <th>3516</th>\n",
       "      <td>2.307456</td>\n",
       "      <td>546</td>\n",
       "      <td>0.0</td>\n",
       "      <td>1259.871187</td>\n",
       "      <td>2.235598</td>\n",
       "      <td>0.177141</td>\n",
       "    </tr>\n",
       "    <tr>\n",
       "      <th>3143</th>\n",
       "      <td>3.759843</td>\n",
       "      <td>803</td>\n",
       "      <td>0.0</td>\n",
       "      <td>3019.153816</td>\n",
       "      <td>10.990359</td>\n",
       "      <td>7.509268</td>\n",
       "    </tr>\n",
       "    <tr>\n",
       "      <th>8383</th>\n",
       "      <td>2.319504</td>\n",
       "      <td>566</td>\n",
       "      <td>0.0</td>\n",
       "      <td>1312.839404</td>\n",
       "      <td>4.085828</td>\n",
       "      <td>4.461525</td>\n",
       "    </tr>\n",
       "    <tr>\n",
       "      <th>5036</th>\n",
       "      <td>3.496702</td>\n",
       "      <td>706</td>\n",
       "      <td>0.0</td>\n",
       "      <td>2468.671274</td>\n",
       "      <td>6.709861</td>\n",
       "      <td>6.986493</td>\n",
       "    </tr>\n",
       "    <tr>\n",
       "      <th>3688</th>\n",
       "      <td>3.939839</td>\n",
       "      <td>1017</td>\n",
       "      <td>1.0</td>\n",
       "      <td>4006.816085</td>\n",
       "      <td>8.455069</td>\n",
       "      <td>7.789573</td>\n",
       "    </tr>\n",
       "  </tbody>\n",
       "</table>\n",
       "</div>"
      ],
      "text/plain": [
       "           gpa  score  graduated    scoreXgpa  examsXgpa  scoresXgpa\n",
       "3516  2.307456    546        0.0  1259.871187   2.235598    0.177141\n",
       "3143  3.759843    803        0.0  3019.153816  10.990359    7.509268\n",
       "8383  2.319504    566        0.0  1312.839404   4.085828    4.461525\n",
       "5036  3.496702    706        0.0  2468.671274   6.709861    6.986493\n",
       "3688  3.939839   1017        1.0  4006.816085   8.455069    7.789573"
      ]
     },
     "execution_count": 11,
     "metadata": {},
     "output_type": "execute_result"
    }
   ],
   "source": [
    "df.sample(5)"
   ]
  },
  {
   "cell_type": "code",
   "execution_count": 12,
   "metadata": {},
   "outputs": [
    {
     "data": {
      "text/plain": [
       "graduated     1.000000\n",
       "scoreXgpa     0.695663\n",
       "examsXgpa     0.682980\n",
       "scoresXgpa    0.673336\n",
       "gpa           0.670829\n",
       "score         0.634327\n",
       "Name: graduated, dtype: float64"
      ]
     },
     "execution_count": 12,
     "metadata": {},
     "output_type": "execute_result"
    }
   ],
   "source": [
    "df.corr()['graduated'].sort_values(ascending=False)"
   ]
  },
  {
   "cell_type": "markdown",
   "metadata": {},
   "source": [
    "# Train"
   ]
  },
  {
   "cell_type": "code",
   "execution_count": 13,
   "metadata": {},
   "outputs": [],
   "source": [
    "import xgboost as xgb\n",
    "model = xgb.XGBClassifier(max_depth=3, learning_rate=0.05)"
   ]
  },
  {
   "cell_type": "code",
   "execution_count": 14,
   "metadata": {},
   "outputs": [],
   "source": [
    "train_y = df[['graduated']]\n",
    "train_X = df.drop(columns=['graduated'])"
   ]
  },
  {
   "cell_type": "code",
   "execution_count": 24,
   "metadata": {},
   "outputs": [
    {
     "data": {
      "text/plain": [
       "Index(['gpa', 'score', 'scoreXgpa', 'examsXgpa', 'scoresXgpa'], dtype='object')"
      ]
     },
     "execution_count": 24,
     "metadata": {},
     "output_type": "execute_result"
    }
   ],
   "source": [
    "train_X.columns"
   ]
  },
  {
   "cell_type": "code",
   "execution_count": 15,
   "metadata": {},
   "outputs": [
    {
     "data": {
      "text/plain": [
       "XGBClassifier(base_score=0.5, booster='gbtree', colsample_bylevel=1,\n",
       "       colsample_bytree=1, gamma=0, learning_rate=0.05, max_delta_step=0,\n",
       "       max_depth=3, min_child_weight=1, missing=None, n_estimators=100,\n",
       "       n_jobs=1, nthread=None, objective='binary:logistic', random_state=0,\n",
       "       reg_alpha=0, reg_lambda=1, scale_pos_weight=1, seed=None,\n",
       "       silent=True, subsample=1)"
      ]
     },
     "execution_count": 15,
     "metadata": {},
     "output_type": "execute_result"
    }
   ],
   "source": [
    "model.fit(train_X, train_y.values.ravel())"
   ]
  },
  {
   "cell_type": "markdown",
   "metadata": {},
   "source": [
    "# Test"
   ]
  },
  {
   "cell_type": "code",
   "execution_count": 16,
   "metadata": {},
   "outputs": [],
   "source": [
    "test_dataset = prepare(test)"
   ]
  },
  {
   "cell_type": "code",
   "execution_count": 17,
   "metadata": {},
   "outputs": [],
   "source": [
    "test_y = test_dataset[['graduated']]\n",
    "test_X = test_dataset.drop(columns=['graduated'])"
   ]
  },
  {
   "cell_type": "code",
   "execution_count": 18,
   "metadata": {},
   "outputs": [],
   "source": [
    "pred = model.predict(test_X)"
   ]
  },
  {
   "cell_type": "markdown",
   "metadata": {},
   "source": [
    "# Evaluate"
   ]
  },
  {
   "cell_type": "code",
   "execution_count": 19,
   "metadata": {},
   "outputs": [
    {
     "data": {
      "text/plain": [
       "0.8539300573484764"
      ]
     },
     "execution_count": 19,
     "metadata": {},
     "output_type": "execute_result"
    }
   ],
   "source": [
    "from sklearn.metrics import accuracy_score\n",
    "accuracy_score(test_y, pred)"
   ]
  },
  {
   "cell_type": "code",
   "execution_count": 20,
   "metadata": {},
   "outputs": [
    {
     "name": "stdout",
     "output_type": "stream",
     "text": [
      "0.0    4658\n",
      "1.0    4235\n",
      "Name: graduated, dtype: int64\n",
      "0.523782750477904\n"
     ]
    }
   ],
   "source": [
    "counts = test_y['graduated'].value_counts()\n",
    "print(counts)\n",
    "print(counts[0]/(counts[0]+counts[1]))"
   ]
  },
  {
   "cell_type": "code",
   "execution_count": 21,
   "metadata": {},
   "outputs": [
    {
     "data": {
      "text/plain": [
       "array([0.85722316, 0.84204609, 0.85103991, 0.84251969, 0.84645669])"
      ]
     },
     "execution_count": 21,
     "metadata": {},
     "output_type": "execute_result"
    }
   ],
   "source": [
    "from sklearn.model_selection import cross_val_score\n",
    "cross_val_score(model, test_X.values, test_y.values.ravel(), cv=5)"
   ]
  },
  {
   "cell_type": "code",
   "execution_count": 22,
   "metadata": {},
   "outputs": [
    {
     "data": {
      "text/plain": [
       "<matplotlib.axes._subplots.AxesSubplot at 0x7f475c05ee48>"
      ]
     },
     "execution_count": 22,
     "metadata": {},
     "output_type": "execute_result"
    },
    {
     "data": {
      "image/png": "[encoded data removed]",
      "text/plain": [
       "<Figure size 432x360 with 2 Axes>"
      ]
     },
     "metadata": {
      "needs_background": "light"
     },
     "output_type": "display_data"
    }
   ],
   "source": [
    "from sklearn.model_selection import cross_val_predict\n",
    "from sklearn.metrics import confusion_matrix\n",
    "y_pred = cross_val_predict(model, test_X.values, test_y.values.ravel(), cv=5)\n",
    "conf = confusion_matrix(test_y, y_pred)\n",
    "\n",
    "import seaborn as sns\n",
    "import matplotlib.pyplot as plt\n",
    "plt.figure(figsize=(6,5))\n",
    "sns.heatmap(conf, annot=True, fmt='g', cmap='Blues')"
   ]
  },
  {
   "cell_type": "markdown",
   "metadata": {},
   "source": [
    "# Save"
   ]
  },
  {
   "cell_type": "code",
   "execution_count": 26,
   "metadata": {},
   "outputs": [
    {
     "data": {
      "text/plain": [
       "['app/model.joblib.data']"
      ]
     },
     "execution_count": 26,
     "metadata": {},
     "output_type": "execute_result"
    }
   ],
   "source": [
    "from sklearn.externals import joblib\n",
    "joblib.dump(model, 'app/model.joblib.data')"
   ]
  }
 ],
 "metadata": {
  "kernelspec": {
   "display_name": "Python 3",
   "language": "python",
   "name": "python3"
  },
  "language_info": {
   "codemirror_mode": {
    "name": "ipython",
    "version": 3
   },
   "file_extension": ".py",
   "mimetype": "text/x-python",
   "name": "python",
   "nbconvert_exporter": "python",
   "pygments_lexer": "ipython3",
   "version": "3.6.7"
  }
 },
 "nbformat": 4,
 "nbformat_minor": 2
}
